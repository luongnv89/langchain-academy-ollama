{
 "cells": [
  {
   "cell_type": "markdown",
   "id": "fb0ebaf1",
   "metadata": {},
   "source": [
    "[![Open in Colab](https://colab.research.google.com/assets/colab-badge.svg)](https://colab.research.google.com/github/langchain-ai/langchain-academy/blob/main/module-2/trim-filter-messages.ipynb) [![Open in LangChain Academy](https://cdn.prod.website-files.com/65b8cd72835ceeacd4449a53/66e9eba12c7b7688aa3dbb5e_LCA-badge-green.svg)](https://academy.langchain.com/courses/take/intro-to-langgraph/lessons/58239435-lesson-4-trim-and-filter-messages)"
   ]
  },
  {
   "cell_type": "markdown",
   "id": "c52ea2f9-03ff-4647-b782-46867ebed04e",
   "metadata": {},
   "source": [
    "# Filtering and trimming messages\n",
    "\n",
    "## Review\n",
    "\n",
    "Now, we have a deeper understanding of a few things: \n",
    "\n",
    "* How to customize the graph state schema\n",
    "* How to define custom state reducers\n",
    "* How to use multiple graph state schemas\n",
    "\n",
    "## Goals\n",
    "\n",
    "Now, we can start using these concepts with models in LangGraph!\n",
    " \n",
    "In the next few sessions, we'll build towards a chatbot that has long-term memory.\n",
    "\n",
    "Because our chatbot will use messages, let's first talk a bit more about advanced ways to work with messages in graph state."
   ]
  },
  {
   "cell_type": "code",
   "execution_count": null,
   "id": "d5197aba-5d46-421b-ae3b-4e3034edcfda",
   "metadata": {},
   "outputs": [],
   "source": [
    "%%capture --no-stderr\n",
    "%pip install --quiet -U langchain_core langgraph langchain_openai"
   ]
  },
  {
   "cell_type": "code",
   "execution_count": 1,
   "id": "768dc606-d5f2-468d-96ea-910b264e0f8a",
   "metadata": {},
   "outputs": [],
   "source": [
    "import os, getpass\n",
    "\n",
    "def _set_env(var: str):\n",
    "    if not os.environ.get(var):\n",
    "        os.environ[var] = getpass.getpass(f\"{var}: \")\n",
    "\n",
    "_set_env(\"OPENAI_API_KEY\")"
   ]
  },
  {
   "cell_type": "markdown",
   "id": "8b64d8d3-e4ac-4961-bdc0-688825eb5864",
   "metadata": {},
   "source": [
    "We'll use [LangSmith](https://docs.smith.langchain.com/) for [tracing](https://docs.smith.langchain.com/concepts/tracing).\n",
    "\n",
    "We'll log to a project, `langchain-academy`. "
   ]
  },
  {
   "cell_type": "code",
   "execution_count": 2,
   "id": "dd020c79",
   "metadata": {},
   "outputs": [],
   "source": [
    "_set_env(\"LANGCHAIN_API_KEY\")\n",
    "os.environ[\"LANGCHAIN_TRACING_V2\"] = \"true\"\n",
    "os.environ[\"LANGCHAIN_PROJECT\"] = \"langchain-academy\""
   ]
  },
  {
   "cell_type": "markdown",
   "id": "72f3fc90-58b6-4f7f-897e-dddf6ae532c7",
   "metadata": {},
   "source": [
    "## Messages as state\n",
    "\n",
    "First, let's define some messages."
   ]
  },
  {
   "cell_type": "code",
   "execution_count": 1,
   "id": "cf11a463-e27a-4a05-b41d-64882e38edca",
   "metadata": {},
   "outputs": [
    {
     "name": "stdout",
     "output_type": "stream",
     "text": [
      "==================================\u001b[1m Ai Message \u001b[0m==================================\n",
      "Name: Bot\n",
      "\n",
      "So you said you were researching ocean mammals?\n",
      "================================\u001b[1m Human Message \u001b[0m=================================\n",
      "Name: Lance\n",
      "\n",
      "Yes, I know about whales. But what others should I learn about?\n"
     ]
    }
   ],
   "source": [
    "from pprint import pprint\n",
    "from langchain_core.messages import AIMessage, HumanMessage\n",
    "messages = [AIMessage(f\"So you said you were researching ocean mammals?\", name=\"Bot\")]\n",
    "messages.append(HumanMessage(f\"Yes, I know about whales. But what others should I learn about?\", name=\"Lance\"))\n",
    "\n",
    "for m in messages:\n",
    "    m.pretty_print()"
   ]
  },
  {
   "cell_type": "markdown",
   "id": "b814adcb-6bf9-4b75-be11-e59f933fbd0c",
   "metadata": {},
   "source": [
    "Recall we can pass them to a chat model."
   ]
  },
  {
   "cell_type": "code",
   "execution_count": 2,
   "id": "4712e288-e622-48a2-ad3f-a52f65f3ab08",
   "metadata": {},
   "outputs": [
    {
     "data": {
      "text/plain": [
       "AIMessage(content=\"Okay, fantastic! You've got a great starting point with whales – they’re fascinating! Let’s dive into some other amazing ocean mammal research areas. Here’s a breakdown, categorized by how deep you want to go, with a range of complexity:\\n\\n**1. Beginner-Friendly - Great Starting Points (Easy to Understand)**\\n\\n* **Sea Turtles:** These are incredibly diverse and fascinating. They have incredible migratory patterns, and their shells are a marvel of evolution. Learn about their nesting habits, threats like plastic pollution, and the different species.\\n* **Dolphins & Porpoises:** These are playful and intelligent creatures. Their social structures, communication methods (including whistles!), and hunting techniques are really interesting.\\n* **Seals & Sea Lions:** These are often overlooked, but they're incredibly adaptable and have unique behaviors.  Focus on their breeding habits, their ability to navigate, and their role in the ecosystem.\\n* **Manatees & Dugongs:** These gentle giants are unique to the warm waters of the tropics and are incredibly slow-moving.  Their conservation status is a significant concern.\\n\\n\\n**2. Intermediate - More Detailed & Interesting**\\n\\n* **Marine Mammal Ecology:** This is a broad area that explores how these animals interact with their environment – food webs, population dynamics, and how they adapt to changing conditions.\\n* **Ocean Noise Pollution & its Impact:**  Whales rely on sound for communication and navigation.  Human-generated noise (shipping, sonar, etc.) is devastating to their hearing and behavior.\\n* **Deep-Sea Mammals (e.g., Seals, Dolphins, and Whales):**  These creatures live in incredibly harsh conditions, and their adaptations are truly remarkable.  Learn about their bioluminescence, unique sensory systems, and how they survive in the dark depths.\\n* **Coral Reef Conservation:** Many marine mammals rely on healthy coral reefs for food and shelter. Understanding the threats to these ecosystems is crucial.\\n\\n\\n**3. Advanced - Requires a Stronger Background**\\n\\n* **Genetic Diversity & Conservation:**  Understanding the genetic makeup of different whale populations is vital for conservation efforts.  Identifying and protecting endangered populations is a complex challenge.\\n* **Oceanographic Research & Climate Change Impacts:**  How are changing ocean temperatures, currents, and acidification affecting whale distribution, migration, and breeding patterns?\\n* **Bioacoustics & Whale Song:**  The complexity and purpose of whale songs are still being actively researched.  It's a fascinating area of linguistics and animal behavior.\\n* **The Role of Whales in Ecosystems:**  Explore how whales influence the food web, nutrient cycling, and overall health of marine ecosystems.\\n\\n\\n**4. Specific Research Areas - Dive Deeper**\\n\\n* **Plastic Pollution Impacts:**  How are microplastics affecting whale health and behavior?\\n* **Ocean Acidification & its Effects on Whale Physiology:**  How are rising CO2 levels impacting whale bones and immune systems?\\n* **Migration Patterns & Tracking:**  Using satellite technology and acoustic monitoring to track whale movements.\\n* **The Impact of Fishing Gear on Whale Safety:**  Understanding how fishing practices affect whale behavior and mortality.\\n\\n\\n**Resources to Get You Started:**\\n\\n* **Monterey Bay Aquarium:** [https://www.montereybayaquarium.org/](https://www.montereybayaquarium.org/) - Excellent for marine mammal information and conservation.\\n* **National Oceanic and Atmospheric Administration (NOAA):** [https://www.noaa.gov/](https://www.noaa.gov/) -  Provides data and resources on marine mammals.\\n* **The Whale Museum (Seattle):** [https://www.whalemuseum.org/](https://www.whalemuseum.org/) -  A great resource for learning about whale biology and conservation.\\n* **ScienceDirect & Google Scholar:**  For more in-depth research papers.\\n\\n**To help me narrow down what you're most interested in, could you tell me:**\\n\\n*   **What's your current level of knowledge about marine mammals?** (Are you a complete beginner, or do you have some existing interest?)\\n*   **What specifically interests you about these animals?** (e.g., their behavior, their role in the ocean, their conservation status, something else?)\", additional_kwargs={}, response_metadata={'model': 'gemma3:1b', 'created_at': '2025-03-20T07:44:28.484517Z', 'done': True, 'done_reason': 'stop', 'total_duration': 9387586125, 'load_duration': 1294760416, 'prompt_eval_count': 38, 'prompt_eval_duration': 275154042, 'eval_count': 900, 'eval_duration': 7790448958, 'message': Message(role='assistant', content='', images=None, tool_calls=None)}, id='run-cb64351a-a871-4f5a-afa3-d8a6c4851ebc-0', usage_metadata={'input_tokens': 38, 'output_tokens': 900, 'total_tokens': 938})"
      ]
     },
     "execution_count": 2,
     "metadata": {},
     "output_type": "execute_result"
    }
   ],
   "source": [
    "from langchain_ollama import ChatOllama\n",
    "llm = ChatOllama(model=\"gemma3:1b\")\n",
    "llm.invoke(messages)"
   ]
  },
  {
   "cell_type": "markdown",
   "id": "fbd1dab8-0af8-4621-8264-ce65065f76ec",
   "metadata": {},
   "source": [
    "We can run our chat model in a simple graph with `MessagesState`."
   ]
  },
  {
   "cell_type": "code",
   "execution_count": 3,
   "id": "bbd8c39c-633b-4176-9cc6-8318e42bb5dd",
   "metadata": {},
   "outputs": [
    {
     "name": "stdout",
     "output_type": "stream",
     "text": [
      "%%{init: {'flowchart': {'curve': 'linear'}}}%%\n",
      "graph TD;\n",
      "\t__start__([<p>__start__</p>]):::first\n",
      "\tchat_model(chat_model)\n",
      "\t__end__([<p>__end__</p>]):::last\n",
      "\t__start__ --> chat_model;\n",
      "\tchat_model --> __end__;\n",
      "\tclassDef default fill:#f2f0ff,line-height:1.2\n",
      "\tclassDef first fill-opacity:0\n",
      "\tclassDef last fill:#bfb6fc\n",
      "\n"
     ]
    }
   ],
   "source": [
    "from IPython.display import Image, display\n",
    "from langgraph.graph import MessagesState\n",
    "from langgraph.graph import StateGraph, START, END\n",
    "\n",
    "# Node\n",
    "def chat_model_node(state: MessagesState):\n",
    "    return {\"messages\": llm.invoke(state[\"messages\"])}\n",
    "\n",
    "# Build graph\n",
    "builder = StateGraph(MessagesState)\n",
    "builder.add_node(\"chat_model\", chat_model_node)\n",
    "builder.add_edge(START, \"chat_model\")\n",
    "builder.add_edge(\"chat_model\", END)\n",
    "graph = builder.compile()\n",
    "\n",
    "# View\n",
    "# display(Image(graph.get_graph().draw_mermaid_png()))\n",
    "print(graph.get_graph().draw_mermaid())"
   ]
  },
  {
   "cell_type": "code",
   "execution_count": 4,
   "id": "3a5a3e4a-ccfd-4d14-81f1-f0de6e11a1e4",
   "metadata": {},
   "outputs": [
    {
     "name": "stdout",
     "output_type": "stream",
     "text": [
      "==================================\u001b[1m Ai Message \u001b[0m==================================\n",
      "Name: Bot\n",
      "\n",
      "So you said you were researching ocean mammals?\n",
      "================================\u001b[1m Human Message \u001b[0m=================================\n",
      "Name: Lance\n",
      "\n",
      "Yes, I know about whales. But what others should I learn about?\n",
      "==================================\u001b[1m Ai Message \u001b[0m==================================\n",
      "\n",
      "Okay, fantastic! You've got a great starting point with whales – they’re fascinating! Let’s dive into some other ocean mammal research that’s really interesting. Here’s a breakdown, grouped by category, with varying levels of complexity:\n",
      "\n",
      "**1. Deep-Sea Wonders (More Challenging, but incredibly rewarding):**\n",
      "\n",
      "* **Deep-Sea Whales & Dolphins:** This is a HUGE area of research. We’re learning about:\n",
      "    * **The “Lost” Whales:**  Scientists are increasingly finding evidence that some whales (like the sperm whale and narwhal) have been traveling vast distances in the deep ocean for decades, potentially migrating across continents.\n",
      "    * **Deep-Sea Bioluminescence:**  Many deep-sea whales use bioluminescence (light produced by living organisms) for camouflage, communication, and hunting. Research is focused on understanding the diversity and function of these light displays.\n",
      "    * **Deep-Sea Coral & Ecosystems:**  Understanding how deep-sea ecosystems function is crucial for conservation.\n",
      "* **Mysterious Deep-Sea Mammals:**  There's a lot of ongoing research into elusive creatures like the “deep-sea anglerfish” (which uses a bioluminescent lure to attract prey), and the “deep-sea viperfish” (which has incredibly sensitive electroreceptors).\n",
      "\n",
      "\n",
      "**2.  Behavior & Ecology - Focusing on Social & Ecological Dynamics:**\n",
      "\n",
      "* **Cetacean Communication:**  We’re uncovering incredibly complex communication systems – including:\n",
      "    * **Whale Song:**  The songs of humpback whales, orcas, and other whales are incredibly complex and are being studied to understand their purpose (mate attraction, navigation, etc.).\n",
      "    * **Signature Whales:**  Researchers are identifying unique vocalizations that identify individual whales, which is a huge step in understanding social structure.\n",
      "* **Social Behavior:**  Research into how whales form pods, maintain hierarchies, and cooperate is ongoing.  This includes studying:\n",
      "    * **Pod Dynamics:** How whales move within their pods, how they maintain cohesion, and how they respond to changes in the environment.\n",
      "    * **Cooperative Hunting:**  Some whales exhibit cooperative hunting strategies, and researchers are trying to understand the mechanisms behind this.\n",
      "* **Migration Patterns:**  Tracking whale movements is becoming more sophisticated, and we're learning about:\n",
      "    * **Long-Distance Migration:**  Some whales are traveling incredibly long distances, and scientists are trying to determine the routes they take.\n",
      "    * **Seasonal Migration:**  Understanding how whales adjust their migration patterns based on food availability and environmental conditions.\n",
      "\n",
      "\n",
      "**3.  Conservation & Monitoring:**\n",
      "\n",
      "* **Plastic Pollution Impacts:**  Whales are particularly vulnerable to plastic ingestion, and research is focused on understanding the extent of the problem and its effects.\n",
      "* **Climate Change Impacts:**  Ocean warming, acidification, and changes in prey distribution are all posing significant threats to whale populations. Research is examining how these changes affect whale distribution, behavior, and survival.\n",
      "* **Illegal Fishing & Bycatch:**  Researchers are working to understand how illegal fishing practices impact whale populations and to develop strategies for reducing bycatch.\n",
      "* **Ocean Noise Pollution:**  Noise from ships and sonar can disrupt whale communication and navigation. Research is investigating the effects of noise and exploring mitigation strategies.\n",
      "\n",
      "\n",
      "**4.  Specific Species - Let's look at a few examples:**\n",
      "\n",
      "* **Humpback Whales:** Known for their complex songs and breaching. Research focuses on their vocalization, migration patterns, and the impact of climate change.\n",
      "* **Orcas (Killer Whales):**  Studying their social structure, hunting techniques, and the role of their vocalizations in communication.\n",
      "* **Blue Whales:**  Their migration patterns are a major focus, and research is exploring the impact of climate change on their feeding grounds.\n",
      "* **Dolphins:**  Their intelligence and complex social behaviors are a subject of ongoing study.\n",
      "\n",
      "\n",
      "**Resources for Further Exploration:**\n",
      "\n",
      "* **Monterey Bay Aquarium's Whale Lore:** [https://www.montereybayaquarium.org/whale-lore/](https://www.montereybayaquarium.org/whale-lore/) - Excellent overview of whale research.\n",
      "* **National Oceanic and Atmospheric Administration (NOAA) - Whale Research:** [https://www.noaa.gov/ocean/whales](https://www.noaa.gov/ocean/whales) -  Provides data and information on whale populations and research.\n",
      "* **ScienceDaily:** [https://www.sciencedaily.com/](https://www.sciencedaily.com/) -  A good source for recent research articles.\n",
      "\n",
      "**To help me narrow down what you're most interested in, could you tell me:**\n",
      "\n",
      "*   **What's your current level of knowledge about ocean mammals?** (Are you a complete beginner, or do you have some existing knowledge?)\n",
      "*   **What specifically interests you about ocean mammals?** (e.g., their intelligence, their social lives, their migration patterns, conservation issues?)\n"
     ]
    }
   ],
   "source": [
    "output = graph.invoke({'messages': messages})\n",
    "for m in output['messages']:\n",
    "    m.pretty_print()"
   ]
  },
  {
   "cell_type": "markdown",
   "id": "34c33e63-1ef4-412d-bb10-6a1b9e5b35a7",
   "metadata": {},
   "source": [
    "## Reducer\n",
    "\n",
    "A practical challenge when working with messages is managing long-running conversations. \n",
    "\n",
    "Long-running conversations result in high token usage and latency if we are not careful, because we pass a growing list of messages to the model.\n",
    "\n",
    "We have a few ways to address this.\n",
    "\n",
    "First, recall the trick we saw using `RemoveMessage` and the `add_messages` reducer."
   ]
  },
  {
   "cell_type": "code",
   "execution_count": 6,
   "id": "222c6bc5-bb0e-4a43-80f5-c8ec38d99f3a",
   "metadata": {},
   "outputs": [
    {
     "name": "stdout",
     "output_type": "stream",
     "text": [
      "%%{init: {'flowchart': {'curve': 'linear'}}}%%\n",
      "graph TD;\n",
      "\t__start__([<p>__start__</p>]):::first\n",
      "\tfilter(filter)\n",
      "\tchat_model(chat_model)\n",
      "\t__end__([<p>__end__</p>]):::last\n",
      "\t__start__ --> filter;\n",
      "\tchat_model --> __end__;\n",
      "\tfilter --> chat_model;\n",
      "\tclassDef default fill:#f2f0ff,line-height:1.2\n",
      "\tclassDef first fill-opacity:0\n",
      "\tclassDef last fill:#bfb6fc\n",
      "\n"
     ]
    }
   ],
   "source": [
    "from langchain_core.messages import RemoveMessage\n",
    "\n",
    "# Nodes\n",
    "# filter node to remove all messages except the last 2\n",
    "def filter_messages(state: MessagesState):\n",
    "    # Delete all but the 2 most recent messages\n",
    "    delete_messages = [RemoveMessage(id=m.id) for m in state[\"messages\"][:-2]]\n",
    "    return {\"messages\": delete_messages}\n",
    "# send messages to query model\n",
    "def chat_model_node(state: MessagesState):\n",
    "    return {\"messages\": [llm.invoke(state[\"messages\"])]}\n",
    "\n",
    "# Build graph\n",
    "builder = StateGraph(MessagesState)\n",
    "builder.add_node(\"filter\", filter_messages)\n",
    "builder.add_node(\"chat_model\", chat_model_node)\n",
    "builder.add_edge(START, \"filter\")\n",
    "builder.add_edge(\"filter\", \"chat_model\")\n",
    "builder.add_edge(\"chat_model\", END)\n",
    "graph = builder.compile()\n",
    "\n",
    "# View\n",
    "# display(Image(graph.get_graph().draw_mermaid_png()))\n",
    "print(graph.get_graph().draw_mermaid())"
   ]
  },
  {
   "cell_type": "code",
   "execution_count": 7,
   "id": "95a7c2cc-54ce-43e7-9a90-abf37827d709",
   "metadata": {},
   "outputs": [
    {
     "name": "stdout",
     "output_type": "stream",
     "text": [
      "==================================\u001b[1m Ai Message \u001b[0m==================================\n",
      "Name: Bot\n",
      "\n",
      "So you said you were researching ocean mammals?\n",
      "================================\u001b[1m Human Message \u001b[0m=================================\n",
      "Name: Lance\n",
      "\n",
      "Yes, I know about whales. But what others should I learn about?\n",
      "==================================\u001b[1m Ai Message \u001b[0m==================================\n",
      "\n",
      "Okay, fantastic! You've got a great starting point with whales – they’re fascinating! Let’s dive into some other ocean mammal research that’s really interesting. Here’s a breakdown, grouped by level of complexity and what you might find engaging:\n",
      "\n",
      "**1. Beginner-Friendly - Great Starting Points:**\n",
      "\n",
      "* **Sea Lions & Seals:** These are often overlooked, but they're incredibly diverse and have fascinating social behaviors. Learn about their unique adaptations for swimming, echolocation, and their complex family structures.\n",
      "* **Dolphins & Porpoises:** These are incredibly intelligent and playful. Their communication methods (signature whistles) are a major area of study. You’ll learn about their hunting strategies, navigation, and how they interact with each other.\n",
      "* **Manatees & Dugongs:** These gentle giants are unique to the warm waters of the Pacific and Indian Oceans. Their slow, deliberate movements and specialized diets make them a really compelling subject.\n",
      "* **Sea Otters:** These adorable creatures are keystone species, playing a crucial role in maintaining kelp forest health. Their hunting techniques and social lives are also interesting.\n",
      "\n",
      "\n",
      "**2. Intermediate - Requires More Depth:**\n",
      "\n",
      "* **Marine Mammal Ecology & Behavior:** This is a broad area that explores how these animals live, how they interact with their environment, and how they adapt to different habitats.\n",
      "* **Ocean Noise Pollution & its Impact:**  Whales rely on sound for communication and navigation.  Research into how noise pollution (from ships, sonar, etc.) affects their hearing, behavior, and even their ability to find food is incredibly important.\n",
      "* **Genetic Diversity & Conservation:** Understanding how populations are connected and how to protect them is a huge focus.  Research into genetic markers and population monitoring is vital.\n",
      "* **Deep-Sea Mammals (e.g., Dolphines, Seals):**  The deep ocean is largely unexplored, and there's a growing understanding of the unique adaptations and challenges these animals face in this extreme environment.\n",
      "\n",
      "\n",
      "**3. More Advanced - For Those Interested in Specific Areas:**\n",
      "\n",
      "* **Cetacean Vocal Biology:**  The study of whale and dolphin songs is a complex field involving acoustics, linguistics, and evolutionary biology.\n",
      "* **Fish-Whale Interactions:**  Research into how whales influence fish populations and the impact of these interactions on marine ecosystems.\n",
      "* **Oceanographic Modeling of Whale Distribution:**  Using computer models to predict where whales are likely to be based on environmental factors like temperature, currents, and prey availability.\n",
      "* **The Role of Microplastics in Marine Mammals:**  A rapidly growing area of research, examining how these pollutants affect whale health and behavior.\n",
      "\n",
      "\n",
      "**Resources for Further Exploration:**\n",
      "\n",
      "* **Monterey Bay Aquarium Research Institute (MBARI):** [https://www.mbari.org/](https://www.mbari.org/) - Excellent visuals and research on marine mammals.\n",
      "* **National Oceanic and Atmospheric Administration (NOAA):** [https://www.noaa.gov/](https://www.noaa.gov/) - Provides information on marine mammals and ocean conservation.\n",
      "* **The Whale Research Trust:** [https://www.whale-research-trust.org/](https://www.whale-research-trust.org/) - Focuses on conservation efforts for whales and dolphins.\n",
      "* **ScienceDirect & Google Scholar:**  For scientific papers and articles.\n",
      "\n",
      "**To help me narrow down what you're most interested in, could you tell me:**\n",
      "\n",
      "*   **What's your current level of knowledge about marine mammals?** (Are you a complete beginner, or do you have some background?)\n",
      "*   **What specifically interests you about these animals?** (e.g., their intelligence, their social lives, their conservation status, a particular habitat?)\n"
     ]
    }
   ],
   "source": [
    "# Message list with a preamble\n",
    "messages = [AIMessage(\"Hi.\", name=\"Bot\", id=\"1\")]\n",
    "messages.append(HumanMessage(\"Hi.\", name=\"Lance\", id=\"2\"))\n",
    "messages.append(AIMessage(\"So you said you were researching ocean mammals?\", name=\"Bot\", id=\"3\"))\n",
    "messages.append(HumanMessage(\"Yes, I know about whales. But what others should I learn about?\", name=\"Lance\", id=\"4\"))\n",
    "\n",
    "# Invoke\n",
    "output = graph.invoke({'messages': messages})\n",
    "for m in output['messages']:\n",
    "    m.pretty_print()"
   ]
  },
  {
   "cell_type": "markdown",
   "id": "f506457d-014b-4fee-a684-e5edfb4b8f0d",
   "metadata": {},
   "source": [
    "## Filtering messages\n",
    "\n",
    "If you don't need or want to modify the graph state, you can just filter the messages you pass to the chat model.\n",
    "\n",
    "For example, just pass in a filtered list: `llm.invoke(messages[-1:])` to the model."
   ]
  },
  {
   "cell_type": "code",
   "execution_count": 9,
   "id": "22d0b904-7cd6-486b-8948-105bee3d4683",
   "metadata": {},
   "outputs": [
    {
     "name": "stdout",
     "output_type": "stream",
     "text": [
      "%%{init: {'flowchart': {'curve': 'linear'}}}%%\n",
      "graph TD;\n",
      "\t__start__([<p>__start__</p>]):::first\n",
      "\tchat_model(chat_model)\n",
      "\t__end__([<p>__end__</p>]):::last\n",
      "\t__start__ --> chat_model;\n",
      "\tchat_model --> __end__;\n",
      "\tclassDef default fill:#f2f0ff,line-height:1.2\n",
      "\tclassDef first fill-opacity:0\n",
      "\tclassDef last fill:#bfb6fc\n",
      "\n"
     ]
    }
   ],
   "source": [
    "# Node - remove the last message\n",
    "def chat_model_node(state: MessagesState):\n",
    "    return {\"messages\": [llm.invoke(state[\"messages\"][-1:])]}\n",
    "\n",
    "# Build graph\n",
    "builder = StateGraph(MessagesState)\n",
    "builder.add_node(\"chat_model\", chat_model_node)\n",
    "builder.add_edge(START, \"chat_model\")\n",
    "builder.add_edge(\"chat_model\", END)\n",
    "graph = builder.compile()\n",
    "\n",
    "# View\n",
    "# display(Image(graph.get_graph().draw_mermaid_png()))\n",
    "print(graph.get_graph().draw_mermaid())"
   ]
  },
  {
   "cell_type": "markdown",
   "id": "6f58c6fc-532f-418d-b70a-cfcb3307daf5",
   "metadata": {},
   "source": [
    "Let's take our existing list of messages, append the above LLM response, and append a follow-up question."
   ]
  },
  {
   "cell_type": "code",
   "execution_count": 10,
   "id": "16956015-1dbe-4108-89b5-4209b68b51ca",
   "metadata": {},
   "outputs": [],
   "source": [
    "messages.append(output['messages'][-1])\n",
    "messages.append(HumanMessage(f\"Tell me more about Narwhals!\", name=\"Lance\"))"
   ]
  },
  {
   "cell_type": "code",
   "execution_count": 11,
   "id": "85563415-c085-46a8-a4ac-155df798c54e",
   "metadata": {},
   "outputs": [
    {
     "name": "stdout",
     "output_type": "stream",
     "text": [
      "==================================\u001b[1m Ai Message \u001b[0m==================================\n",
      "Name: Bot\n",
      "\n",
      "Hi.\n",
      "================================\u001b[1m Human Message \u001b[0m=================================\n",
      "Name: Lance\n",
      "\n",
      "Hi.\n",
      "==================================\u001b[1m Ai Message \u001b[0m==================================\n",
      "Name: Bot\n",
      "\n",
      "So you said you were researching ocean mammals?\n",
      "================================\u001b[1m Human Message \u001b[0m=================================\n",
      "Name: Lance\n",
      "\n",
      "Yes, I know about whales. But what others should I learn about?\n",
      "==================================\u001b[1m Ai Message \u001b[0m==================================\n",
      "\n",
      "Okay, fantastic! You've got a great starting point with whales – they’re fascinating! Let’s dive into some other ocean mammal research that’s really interesting. Here’s a breakdown, grouped by level of complexity and what you might find engaging:\n",
      "\n",
      "**1. Beginner-Friendly - Great Starting Points:**\n",
      "\n",
      "* **Sea Lions & Seals:** These are often overlooked, but they're incredibly diverse and have fascinating social behaviors. Learn about their unique adaptations for swimming, echolocation, and their complex family structures.\n",
      "* **Dolphins & Porpoises:** These are incredibly intelligent and playful. Their communication methods (signature whistles) are a major area of study. You’ll learn about their hunting strategies, navigation, and how they interact with each other.\n",
      "* **Manatees & Dugongs:** These gentle giants are unique to the warm waters of the Pacific and Indian Oceans. Their slow, deliberate movements and specialized diets make them a really compelling subject.\n",
      "* **Sea Otters:** These adorable creatures are keystone species, playing a crucial role in maintaining kelp forest health. Their hunting techniques and social lives are also interesting.\n",
      "\n",
      "\n",
      "**2. Intermediate - Requires More Depth:**\n",
      "\n",
      "* **Marine Mammal Ecology & Behavior:** This is a broad area that explores how these animals live, how they interact with their environment, and how they adapt to different habitats.\n",
      "* **Ocean Noise Pollution & its Impact:**  Whales rely on sound for communication and navigation.  Research into how noise pollution (from ships, sonar, etc.) affects their hearing, behavior, and even their ability to find food is incredibly important.\n",
      "* **Genetic Diversity & Conservation:** Understanding how populations are connected and how to protect them is a huge focus.  Research into genetic markers and population monitoring is vital.\n",
      "* **Deep-Sea Mammals (e.g., Dolphines, Seals):**  The deep ocean is largely unexplored, and there's a growing understanding of the unique adaptations and challenges these animals face in this extreme environment.\n",
      "\n",
      "\n",
      "**3. More Advanced - For Those Interested in Specific Areas:**\n",
      "\n",
      "* **Cetacean Vocal Biology:**  The study of whale and dolphin songs is a complex field involving acoustics, linguistics, and evolutionary biology.\n",
      "* **Fish-Whale Interactions:**  Research into how whales influence fish populations and the impact of these interactions on marine ecosystems.\n",
      "* **Oceanographic Modeling of Whale Distribution:**  Using computer models to predict where whales are likely to be based on environmental factors like temperature, currents, and prey availability.\n",
      "* **The Role of Microplastics in Marine Mammals:**  A rapidly growing area of research, examining how these pollutants affect whale health and behavior.\n",
      "\n",
      "\n",
      "**Resources for Further Exploration:**\n",
      "\n",
      "* **Monterey Bay Aquarium Research Institute (MBARI):** [https://www.mbari.org/](https://www.mbari.org/) - Excellent visuals and research on marine mammals.\n",
      "* **National Oceanic and Atmospheric Administration (NOAA):** [https://www.noaa.gov/](https://www.noaa.gov/) - Provides information on marine mammals and ocean conservation.\n",
      "* **The Whale Research Trust:** [https://www.whale-research-trust.org/](https://www.whale-research-trust.org/) - Focuses on conservation efforts for whales and dolphins.\n",
      "* **ScienceDirect & Google Scholar:**  For scientific papers and articles.\n",
      "\n",
      "**To help me narrow down what you're most interested in, could you tell me:**\n",
      "\n",
      "*   **What's your current level of knowledge about marine mammals?** (Are you a complete beginner, or do you have some background?)\n",
      "*   **What specifically interests you about these animals?** (e.g., their intelligence, their social lives, their conservation status, a particular habitat?)\n",
      "================================\u001b[1m Human Message \u001b[0m=================================\n",
      "Name: Lance\n",
      "\n",
      "Tell me more about Narwhals!\n"
     ]
    }
   ],
   "source": [
    "for m in messages:\n",
    "    m.pretty_print()"
   ]
  },
  {
   "cell_type": "code",
   "execution_count": 14,
   "id": "23349705-a059-47b5-9760-d8f64e687393",
   "metadata": {},
   "outputs": [
    {
     "name": "stdout",
     "output_type": "stream",
     "text": [
      "==================================\u001b[1m Ai Message \u001b[0m==================================\n",
      "Name: Bot\n",
      "\n",
      "Hi.\n",
      "================================\u001b[1m Human Message \u001b[0m=================================\n",
      "Name: Lance\n",
      "\n",
      "Hi.\n",
      "==================================\u001b[1m Ai Message \u001b[0m==================================\n",
      "Name: Bot\n",
      "\n",
      "So you said you were researching ocean mammals?\n",
      "================================\u001b[1m Human Message \u001b[0m=================================\n",
      "Name: Lance\n",
      "\n",
      "Yes, I know about whales. But what others should I learn about?\n",
      "==================================\u001b[1m Ai Message \u001b[0m==================================\n",
      "\n",
      "That's great that you know about whales! There are many other fascinating ocean mammals you can learn about. Here are a few:\n",
      "\n",
      "1. **Dolphins**: Highly intelligent and social animals, dolphins are known for their playful behavior and sophisticated communication skills. There are many species of dolphins, including the well-known bottlenose dolphin.\n",
      "\n",
      "2. **Porpoises**: Often confused with dolphins, porpoises are smaller and have different body shapes and teeth. They are generally more reclusive and less acrobatic than dolphins.\n",
      "\n",
      "3. **Seals**: Seals are part of the pinniped family, which also includes sea lions and walruses. They have streamlined bodies and flippers, making them excellent swimmers. Common types of seals include harbor seals and elephant seals.\n",
      "\n",
      "4. **Sea Lions**: Similar to seals but with some key differences, sea lions have external ear flaps and can rotate their hind flippers to walk on land. They are also very social and often gather in large groups.\n",
      "\n",
      "5. **Walruses**: Recognizable by their long tusks and whiskers, walruses are large marine mammals that are found in Arctic regions. They use their tusks to help them climb out of the water and to break through ice.\n",
      "\n",
      "6. **Manatees and Dugongs**: These gentle giants are often referred to as sea cows. Manatees are found in the Atlantic Ocean, while dugongs are found in the Indian and Pacific Oceans. They are herbivores and spend most of their time grazing on underwater vegetation.\n",
      "\n",
      "7. **Sea Otters**: Known for their playful behavior and use of tools, sea otters are an important part of the marine ecosystem. They have thick fur to keep them warm in cold waters and are often seen floating on their backs.\n",
      "\n",
      "8. **Polar Bears**: While not exclusively marine, polar bears spend a significant amount of time in the ocean, particularly in Arctic regions. They are excellent swimmers and rely on sea ice to hunt seals, their primary food source.\n",
      "\n",
      "9. **Narwhals**: Often called the \"unicorns of the sea,\" narwhals have a long, spiral tusk that is actually an elongated tooth. They are found in Arctic waters and are known for their deep diving abilities.\n",
      "\n",
      "10. **Orcas (Killer Whales)**: Though they are technically a type of dolphin, orcas are often considered separately due to their size and distinctive black-and-white coloring. They are apex predators and have complex social structures.\n",
      "\n",
      "Each of these ocean mammals has unique behaviors, adaptations, and ecological roles, making them fascinating subjects for study.\n",
      "================================\u001b[1m Human Message \u001b[0m=================================\n",
      "Name: Lance\n",
      "\n",
      "Tell me more about Narwhals!\n",
      "==================================\u001b[1m Ai Message \u001b[0m==================================\n",
      "\n",
      "Of course! Narwhals (Monodon monoceros) are fascinating marine mammals that belong to the family Monodontidae, which also includes the beluga whale. They are best known for the long, spiral tusk that protrudes from the head of the males, which has earned them the nickname \"unicorns of the sea.\"\n",
      "\n",
      "Here are some key facts about narwhals:\n",
      "\n",
      "### Physical Characteristics\n",
      "- **Tusk**: The most distinctive feature of the narwhal is the tusk, which is actually an elongated tooth. It can grow up to 10 feet (3 meters) long and is usually found in males, though some females may also develop smaller tusks. The tusk grows in a spiral pattern and is thought to have sensory capabilities, with millions of nerve endings.\n",
      "- **Body**: Narwhals have a stocky body with a mottled black and white skin pattern. They lack a dorsal fin, which is thought to be an adaptation to swimming under ice.\n",
      "- **Size**: Adult narwhals typically range from 13 to 20 feet (4 to 6 meters) in length, with males generally being larger than females.\n",
      "- **Weight**: They can weigh between 1,760 to 3,530 pounds (800 to 1,600 kilograms).\n",
      "\n",
      "### Habitat and Distribution\n",
      "- Narwhals are native to the Arctic waters of Canada, Greenland, Norway, and Russia. They are especially common in the Baffin Bay and the waters surrounding Greenland.\n",
      "- They prefer deep waters and are often found in areas with heavy sea ice.\n",
      "\n",
      "### Behavior and Diet\n",
      "- **Diving**: Narwhals are deep divers and can reach depths of up to 5,000 feet (1,500 meters) in search of food. They can hold their breath for up to 25 minutes.\n",
      "- **Diet**: Their diet primarily consists of fish such as Arctic cod and Greenland halibut, as well as squid and shrimp.\n",
      "- **Social Structure**: Narwhals are social animals and are often found in groups called pods, which typically consist of 5 to 10 individuals but can sometimes number in the hundreds.\n",
      "\n",
      "### Reproduction and Lifespan\n",
      "- Females give birth to a single calf after a gestation period of about 14 to 15 months. Calves are usually born in the spring or early summer.\n",
      "- Narwhals have a long lifespan and can live up to 50 years, although some individuals may live even longer.\n",
      "\n",
      "### Conservation Status\n",
      "- Narwhals are currently classified as \"Near Threatened\" by the International Union for Conservation of Nature (IUCN). Their main threats include climate change, which affects their sea ice habitat, and human activities such as shipping and oil exploration.\n",
      "- Indigenous communities in the Arctic have traditionally hunted narwhals for their meat, blubber, and tusks, which are used for various purposes, including art and tools.\n",
      "\n",
      "### Cultural Significance\n",
      "- The narwhal's tusk has fascinated humans for centuries and was often sold as a \"unicorn horn\" in medieval Europe, believed to possess magical properties.\n",
      "- Narwhals hold significant cultural and economic value for indigenous Arctic communities.\n",
      "\n",
      "Overall, narwhals are remarkable creatures with unique adaptations that allow them to thrive in some of the planet's harshest environments.\n"
     ]
    }
   ],
   "source": [
    "# Invoke, using message filtering\n",
    "output = graph.invoke({'messages': messages})\n",
    "for m in output['messages']:\n",
    "    m.pretty_print()"
   ]
  },
  {
   "cell_type": "markdown",
   "id": "42e1d8d2-e297-4d78-b54c-d12b3c866745",
   "metadata": {},
   "source": [
    "The state has all of the mesages.\n",
    "\n",
    "But, let's look at the LangSmith trace to see that the model invocation only uses the last message:\n",
    "\n",
    "https://smith.langchain.com/public/75aca3ce-ef19-4b92-94be-0178c7a660d9/r"
   ]
  },
  {
   "cell_type": "markdown",
   "id": "fc40d930-3c1f-47fe-8d2a-ce174873353c",
   "metadata": {},
   "source": [
    "## Trim messages\n",
    "\n",
    "Another approach is to [trim messages](https://python.langchain.com/v0.2/docs/how_to/trim_messages/#getting-the-last-max_tokens-tokens), based upon a set number of tokens. \n",
    "\n",
    "This restricts the message history to a specified number of tokens.\n",
    "\n",
    "While filtering only returns a post-hoc subset of the messages between agents, trimming restricts the number of tokens that a chat model can use to respond.\n",
    "\n",
    "See the `trim_messages` below."
   ]
  },
  {
   "cell_type": "code",
   "execution_count": 16,
   "id": "2ff99b81-cf03-4cc2-b44f-44829a73e1fd",
   "metadata": {},
   "outputs": [
    {
     "data": {
      "image/png": "[encoded data removed]",
      "text/plain": [
       "<IPython.core.display.Image object>"
      ]
     },
     "metadata": {},
     "output_type": "display_data"
    }
   ],
   "source": [
    "from langchain_core.messages import trim_messages\n",
    "\n",
    "# Node with trim message - only keep max 100 last token\n",
    "def chat_model_node(state: MessagesState):\n",
    "    messages = trim_messages(\n",
    "            state[\"messages\"],\n",
    "            max_tokens=100,\n",
    "            strategy=\"last\",\n",
    "            token_counter=ChatOllama(model=\"gemma3:1b\"),\n",
    "            allow_partial=False,\n",
    "        )\n",
    "    return {\"messages\": [llm.invoke(messages)]}\n",
    "\n",
    "# Build graph\n",
    "builder = StateGraph(MessagesState)\n",
    "builder.add_node(\"chat_model\", chat_model_node)\n",
    "builder.add_edge(START, \"chat_model\")\n",
    "builder.add_edge(\"chat_model\", END)\n",
    "graph = builder.compile()\n",
    "\n",
    "# View\n",
    "display(Image(graph.get_graph().draw_png()))\n",
    "# print(graph.get_graph().draw_mermaid())"
   ]
  },
  {
   "cell_type": "code",
   "execution_count": 13,
   "id": "24df63ac-da29-4874-b3df-7e390e97cc8a",
   "metadata": {},
   "outputs": [],
   "source": [
    "messages.append(output['messages'][-1])\n",
    "messages.append(HumanMessage(f\"Tell me where Orcas live!\", name=\"Lance\"))"
   ]
  },
  {
   "cell_type": "code",
   "execution_count": 19,
   "id": "6d9d8971-c75c-43ca-a209-eb1d07b2ead0",
   "metadata": {},
   "outputs": [
    {
     "data": {
      "text/plain": [
       "[HumanMessage(content='Tell me where Orcas live!', additional_kwargs={}, response_metadata={}, name='Lance', id='66462e90-4651-46a8-940d-298f0fdea787')]"
      ]
     },
     "execution_count": 19,
     "metadata": {},
     "output_type": "execute_result"
    }
   ],
   "source": [
    "# Example of trimming messages\n",
    "trim_messages(\n",
    "            messages,\n",
    "            max_tokens=100,\n",
    "            strategy=\"last\",\n",
    "            token_counter=ChatOllama(model=\"gemma3:1b\"),\n",
    "            allow_partial=False\n",
    "        )"
   ]
  },
  {
   "cell_type": "code",
   "execution_count": 20,
   "id": "ed70a269-a869-4fa0-a1df-29736a432c51",
   "metadata": {},
   "outputs": [],
   "source": [
    "# Invoke, using message trimming in the chat_model_node\n",
    "messages_out_trim = graph.invoke({'messages': messages})"
   ]
  },
  {
   "cell_type": "markdown",
   "id": "38b3db67-380e-46b5-9a6a-20100ba52008",
   "metadata": {},
   "source": [
    "Let's look at the LangSmith trace to see the model invocation:\n",
    "\n",
    "https://smith.langchain.com/public/b153f7e9-f1a5-4d60-8074-f0d7ab5b42ef/r"
   ]
  }
 ],
 "metadata": {
  "kernelspec": {
   "display_name": ".venv",
   "language": "python",
   "name": "python3"
  },
  "language_info": {
   "codemirror_mode": {
    "name": "ipython",
    "version": 3
   },
   "file_extension": ".py",
   "mimetype": "text/x-python",
   "name": "python",
   "nbconvert_exporter": "python",
   "pygments_lexer": "ipython3",
   "version": "3.12.9"
  }
 },
 "nbformat": 4,
 "nbformat_minor": 5
}
